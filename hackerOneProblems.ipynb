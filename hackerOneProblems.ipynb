{
 "cells": [
  {
   "cell_type": "markdown",
   "id": "999b6366",
   "metadata": {},
   "source": [
    "This notebook contains my answers to some HackerRank Python problems. I'm using it to keep track of certain code I've written that may be helpful in coding interviews and such."
   ]
  },
  {
   "cell_type": "markdown",
   "id": "d604426d",
   "metadata": {},
   "source": [
    "### Problem: Loops\n",
    "\n",
    "While loops"
   ]
  },
  {
   "cell_type": "code",
   "execution_count": null,
   "id": "5877a9a6",
   "metadata": {},
   "outputs": [],
   "source": [
    "if __name__ == '__main__':\n",
    "    n = int(input())\n",
    "    \n",
    "    i = 0\n",
    "    while i < n:\n",
    "        print(pow(i,2))\n",
    "        i += 1"
   ]
  },
  {
   "cell_type": "markdown",
   "id": "bec47e46",
   "metadata": {},
   "source": [
    "### Problem: Print Function\n",
    "\n",
    "Prints integers 1...n without line breaks (not using strings)"
   ]
  },
  {
   "cell_type": "code",
   "execution_count": null,
   "id": "f8d344ca",
   "metadata": {},
   "outputs": [],
   "source": [
    "if __name__ == '__main__':\n",
    "    n = int(input())\n",
    "    \n",
    "    i = 1\n",
    "    while i <= n:\n",
    "        print(i, end='') # end argument prevents newline break\n",
    "        i += 1"
   ]
  },
  {
   "cell_type": "markdown",
   "id": "99d14c26",
   "metadata": {},
   "source": [
    "### Problem: Exceptions\n",
    "\n",
    "Intro to try/catch logic. Also helpful for understanding interacting with user input."
   ]
  },
  {
   "cell_type": "code",
   "execution_count": null,
   "id": "50688e2c",
   "metadata": {},
   "outputs": [],
   "source": [
    "# Enter your code here. Read input from STDIN. Print output to STDOUT\n",
    "\n",
    "if __name__ == '__main__':\n",
    "    \n",
    "    # User first inputs the number of value-pairs\n",
    "    # Must make this an int -- input() forces elements to strings\n",
    "    N = int(input())\n",
    "    \n",
    "    # Next, for each input perform the requested calculations\n",
    "    for i in range(N):\n",
    "        a, b = input().split()\n",
    "        \n",
    "        try:\n",
    "            print(int(a)//int(b))\n",
    "        except ZeroDivisionError as e:\n",
    "            print(\"Error Code:\", e)\n",
    "        except ValueError as v:\n",
    "            print(\"Error Code:\", v)"
   ]
  },
  {
   "cell_type": "code",
   "execution_count": null,
   "id": "957b769f",
   "metadata": {},
   "outputs": [],
   "source": []
  },
  {
   "cell_type": "code",
   "execution_count": null,
   "id": "14a86144",
   "metadata": {},
   "outputs": [],
   "source": [
    "if __name__ == '__main__':\n",
    "    x = int(input())\n",
    "    y = int(input())\n",
    "    z = int(input())\n",
    "    n = int(input())\n",
    "    \n",
    "    coords = []\n",
    "    # Long way -- without list comprehension\n",
    "    for i in range(x+1):\n",
    "        for j in range(y+1):\n",
    "            for q in range(z+1):\n",
    "                if i+j+q!=n:\n",
    "                    coords.append([i,j,q])\n",
    "    \n",
    "    # Short way -- with list comprehension\n",
    "    coords = [[i,j,q] for i in range(x+1) for j in range(y+1) for q in range(z+1) if i+j+q != n]\n",
    "    print(coords)"
   ]
  },
  {
   "cell_type": "markdown",
   "id": "95d085b8",
   "metadata": {},
   "source": [
    "### Problem: Write a function\n",
    "\n",
    "Uses modulus logic to return if a year is a leap year or not."
   ]
  },
  {
   "cell_type": "code",
   "execution_count": 1,
   "id": "e57ad025",
   "metadata": {},
   "outputs": [],
   "source": [
    "def is_leap(year):\n",
    "    leap = False\n",
    "    \n",
    "    # Write your logic here\n",
    "    if year % 4 == 0:\n",
    "        if (year % 100 > 0):\n",
    "            leap = True\n",
    "        elif (year % 100 == 0) and (year % 400 == 0):\n",
    "             leap = True\n",
    "    \n",
    "    return leap"
   ]
  },
  {
   "cell_type": "markdown",
   "id": "cf7b2f90",
   "metadata": {},
   "source": [
    "### Problem: Merge the tools!\n",
    "\n",
    "Creates list of substrings from a larger string based off some index, removes duplicates from the substrings, then prints them."
   ]
  },
  {
   "cell_type": "code",
   "execution_count": null,
   "id": "8e9e0868",
   "metadata": {},
   "outputs": [],
   "source": [
    "def merge_the_tools(string, k):\n",
    "    # your code goes here\n",
    "    \n",
    "    # Step 1: Create list of substrings\n",
    "    substrings = []\n",
    "    b = 0\n",
    "    t = k\n",
    "    while(t <= len(string)):\n",
    "        substrings.append(string[b:t])\n",
    "        b += k\n",
    "        t += k\n",
    "    \n",
    "    # Step 2: Clean up each substrings and print\n",
    "    for i in substrings:\n",
    "        u = []\n",
    "        for j in i:\n",
    "            if j not in u:\n",
    "                u.append(j)\n",
    "        print(''.join(u))\n",
    "        \n",
    "\n",
    "if __name__ == '__main__':"
   ]
  },
  {
   "cell_type": "markdown",
   "id": "0e917983",
   "metadata": {},
   "source": [
    "### Problem: Finding the percentage\n",
    "\n",
    "Subsets dictionary of student scores based on student name, calculates their mean score, and prints to two decimal places"
   ]
  },
  {
   "cell_type": "code",
   "execution_count": null,
   "id": "b77bb16d",
   "metadata": {},
   "outputs": [],
   "source": [
    "if __name__ == '__main__':\n",
    "    n = int(raw_input())\n",
    "    student_marks = {}\n",
    "    for _ in range(n):\n",
    "        line = raw_input().split()\n",
    "        name, scores = line[0], line[1:]\n",
    "        scores = map(float, scores)\n",
    "        student_marks[name] = scores\n",
    "    query_name = raw_input()\n",
    "    \n",
    "    # my code\n",
    "    for key, val in student_marks.items():\n",
    "        if key == query_name:\n",
    "            # Note: Passing an integer after the ':' will cause that field to be a minimum number of characters wide.\n",
    "            print(\"{:.2f}\".format(sum(val)/len(val)))"
   ]
  },
  {
   "cell_type": "markdown",
   "id": "b329fa1e",
   "metadata": {},
   "source": [
    "### Set .symmetric_difference() Operation"
   ]
  },
  {
   "cell_type": "code",
   "execution_count": null,
   "id": "8da75eae",
   "metadata": {},
   "outputs": [],
   "source": [
    "# Enter your code here. Read input from STDIN. Print output to STDOUT\n",
    "if __name__ == '__main__':\n",
    "    E = int(input())\n",
    "    E_students = set(input().split()) \n",
    "    F = int(input())\n",
    "    F_students = input().split()\n",
    "    \n",
    "    union = E_students.symmetric_difference(F_students)\n",
    "    print(len(union))"
   ]
  },
  {
   "cell_type": "markdown",
   "id": "c4ffca15",
   "metadata": {},
   "source": [
    "### Problem: Arrays (numpy)\n",
    "\n",
    "Returns reversed list as an array of floats. Note the use of list slicing."
   ]
  },
  {
   "cell_type": "code",
   "execution_count": null,
   "id": "113e4dd6",
   "metadata": {},
   "outputs": [],
   "source": [
    "import numpy\n",
    "\n",
    "def arrays(arr):\n",
    "    # complete this function\n",
    "    # use numpy.array\n",
    "    return numpy.array(arr[::-1],float)\n",
    "\n",
    "arr = input().strip().split(' ')\n",
    "result = arrays(arr)\n",
    "print(result)"
   ]
  },
  {
   "cell_type": "markdown",
   "id": "5d31135d",
   "metadata": {},
   "source": [
    "### Problem: Shape and Reshape\n",
    "\n",
    "Takes in a space-separated list of numbers, reshapes into 3x3 array."
   ]
  },
  {
   "cell_type": "code",
   "execution_count": null,
   "id": "34fa0771",
   "metadata": {},
   "outputs": [],
   "source": [
    "import numpy as np\n",
    "\n",
    "arr = np.array(input().split(), int)\n",
    "print(np.reshape(arr,(3,3)))"
   ]
  },
  {
   "cell_type": "markdown",
   "id": "96b95d7d",
   "metadata": {},
   "source": [
    "### Problem: The Minion Game"
   ]
  },
  {
   "cell_type": "code",
   "execution_count": null,
   "id": "caf819ba",
   "metadata": {},
   "outputs": [],
   "source": [
    "def minion_game(string):\n",
    "\n",
    "    # Find vowels and consonants in string\n",
    "    vows = set([letter for letter in string if letter in 'AEIOU'])\n",
    "    cons = set([letter for letter in string if letter not in vows])\n",
    "    \n",
    "    # The amount of substrings for each letter equates to total of (length of string) - (position of letter in string)    \n",
    "    # So this amounts to finding the positions of consonants/vowels and adding up those differences\n",
    "    \n",
    "    # Stuart (consonants)  \n",
    "    STU_POS = [pos for pos, letter in enumerate(string) if letter in cons]\n",
    "    STU_SCORE = sum([len(string) - x for x in STU_POS])\n",
    "    \n",
    "    # Kevin (vowels)\n",
    "    KEV_POS = [pos for pos, letter in enumerate(string) if letter in vows]\n",
    "    KEV_SCORE = sum([len(string) - x for x in KEV_POS])\n",
    " \n",
    "    if STU_SCORE > KEV_SCORE:\n",
    "        print(f\"Stuart {STU_SCORE}\")\n",
    "    elif STU_SCORE < KEV_SCORE:\n",
    "        print(f\"Kevin {KEV_SCORE}\")\n",
    "    else:\n",
    "        print(\"Draw\")\n",
    "     \n",
    "if __name__ == '__main__':\n",
    "    minion_game(input())"
   ]
  },
  {
   "cell_type": "markdown",
   "id": "d2d8d390",
   "metadata": {},
   "source": [
    "### Problem: No Idea!"
   ]
  },
  {
   "cell_type": "markdown",
   "id": "292cd7cb",
   "metadata": {},
   "source": [
    "Note: need to explicitly assign A, B as sets. They contain duplicate values which causes a timeout in some test cases."
   ]
  },
  {
   "cell_type": "code",
   "execution_count": null,
   "id": "df88192f",
   "metadata": {},
   "outputs": [],
   "source": [
    "if __name__ == \"__main__\":\n",
    "\n",
    "    # Get inputs\n",
    "    n, m = input().split()\n",
    "    myarr, A, B = list(map(int, input().split())), set(list(map(int, input().split()))), set(list(map(int, input().split())))\n",
    "\n",
    "    happiness = 0\n",
    "    \n",
    "    for x in myarr:\n",
    "        if x in A:\n",
    "            happiness += 1\n",
    "        elif x in B:\n",
    "            happiness -= 1\n",
    "    \n",
    "    print(happiness)"
   ]
  },
  {
   "cell_type": "markdown",
   "id": "00f03773",
   "metadata": {},
   "source": [
    "### Problem: Word Order"
   ]
  },
  {
   "cell_type": "code",
   "execution_count": null,
   "id": "26f9ca63",
   "metadata": {},
   "outputs": [],
   "source": [
    "from collections import Counter\n",
    "\n",
    "if __name__ == '__main__':\n",
    "\n",
    "    # Number of words\n",
    "    x = int(input())\n",
    "\n",
    "    # Populate list with all words\n",
    "    words = []\n",
    "    for i in range(x):\n",
    "        words.append(input())\n",
    "        \n",
    "    # Print number of distinct words\n",
    "    print(len(set(words)))\n",
    "\n",
    "    # Set up counter & print occurrences for each word\n",
    "    c = Counter(words)\n",
    "    for i in c:\n",
    "        print(c[i], end=' ')"
   ]
  },
  {
   "cell_type": "markdown",
   "id": "bf7c148f",
   "metadata": {},
   "source": [
    "### Problem: Athlete Sort"
   ]
  },
  {
   "cell_type": "code",
   "execution_count": 22,
   "id": "43cd2c4c",
   "metadata": {},
   "outputs": [
    {
     "data": {
      "text/plain": [
       "[[7, 1, 0], [10, 2, 5], [6, 5, 9], [9, 9, 9], [1, 23, 12]]"
      ]
     },
     "execution_count": 22,
     "metadata": {},
     "output_type": "execute_result"
    }
   ],
   "source": [
    "#!/bin/python3\n",
    "\n",
    "import math\n",
    "import os\n",
    "import random\n",
    "import re\n",
    "import sys\n",
    "\n",
    "\n",
    "if __name__ == '__main__':\n",
    "    nm = input().split()\n",
    "\n",
    "    n = int(nm[0])\n",
    "\n",
    "    m = int(nm[1])\n",
    "\n",
    "    arr = []\n",
    "\n",
    "    for _ in range(n):\n",
    "        arr.append(list(map(int, input().rstrip().split())))\n",
    "\n",
    "    k = int(input())\n",
    "\n",
    "    # Use kth feature of each player as the key\n",
    "    # Easily print using the unpacker in list comprehension\n",
    "    [print(*y) for y in sorted(arr, key=lambda x: x[k])]"
   ]
  },
  {
   "cell_type": "markdown",
   "id": "f43a2d8b",
   "metadata": {},
   "source": [
    "### Problem: ginortS\n",
    "\n",
    "Sort by (in order) lowercase letters, uppercase letters, odd numbers, even numbers"
   ]
  },
  {
   "cell_type": "code",
   "execution_count": null,
   "id": "40cc4e65",
   "metadata": {},
   "outputs": [],
   "source": [
    "# Attempt 1: this works, but is kind of messy\n",
    "import re\n",
    "\n",
    "word = input()\n",
    "uppers = sorted([x for x in word if x.isupper()])\n",
    "lowers = sorted([x for x in word if x.islower()])\n",
    "\n",
    "# Split sorted numbers into odds/evens\n",
    "numbers = sorted([int(x) for x in word if x.isnumeric()])\n",
    "odds = [str(x) for x in numbers if x % 2 > 0]\n",
    "evens = [str(x) for x in numbers if x % 2 == 0]\n",
    "\n",
    "# restring\n",
    "print(''.join(lowers) + ''.join(uppers) + ''.join(odds) + ''.join(evens))"
   ]
  },
  {
   "cell_type": "markdown",
   "id": "26113ec1",
   "metadata": {},
   "source": [
    "Other options (taken from discussion board) use a single sorted() call but with a custom key. First let's see how this works:"
   ]
  },
  {
   "cell_type": "code",
   "execution_count": 4,
   "id": "bd2edd07",
   "metadata": {},
   "outputs": [
    {
     "name": "stdout",
     "output_type": "stream",
     "text": [
      "Sorting1234\n",
      "ginortS1324\n"
     ]
    }
   ],
   "source": [
    "# sorted() goes from low -> high. So we want to give high priority to characters that we want at the end.\n",
    "# We can use a custom key to do this all within one sorted() call.\n",
    "\n",
    "# Option 1: set a function for the key\n",
    "def getKey(x):\n",
    "    if x.islower():\n",
    "        return(1,x) # lowest priority to lowercase letters\n",
    "    elif x.isupper():\n",
    "        return(2,x) # second-lowest priority to uppercase letters\n",
    "    elif x.isdigit(): # now do odds/evens. We want evens at the end, so they need higher priority\n",
    "        if int(x) % 2 > 0: # third lowest priority to odd digits\n",
    "            return(3,x)\n",
    "        else:\n",
    "            return(4,x) # highest priority to even digits\n",
    "\n",
    "# The * is the unpacking operator. It means to take each character in the single-string input and\n",
    "# consider it on its own\n",
    "print(*sorted(input(), key=getKey), sep='')"
   ]
  },
  {
   "cell_type": "markdown",
   "id": "0343a33a",
   "metadata": {},
   "source": [
    "Now let's use a lambda function to create our key:"
   ]
  },
  {
   "cell_type": "code",
   "execution_count": 5,
   "id": "c86a727e",
   "metadata": {},
   "outputs": [
    {
     "name": "stdout",
     "output_type": "stream",
     "text": [
      "Sorting1234\n",
      "ginortS1324\n"
     ]
    }
   ],
   "source": [
    "print(*(sorted(input(), key=lambda x: (x.isdigit(), x.isdigit() and int(x)%2==0, x.isupper(), x.islower(), x))), sep='')\n",
    "\n",
    "# Explanation:\n",
    "# x.isdigit(): put digits before letters\n",
    "# x.isdigit() and int(x) % 2 == 0: put even digits before odd digits\n",
    "# x.isupper(): put upper letters before lower letters"
   ]
  }
 ],
 "metadata": {
  "kernelspec": {
   "display_name": "Python 3",
   "language": "python",
   "name": "python3"
  },
  "language_info": {
   "codemirror_mode": {
    "name": "ipython",
    "version": 3
   },
   "file_extension": ".py",
   "mimetype": "text/x-python",
   "name": "python",
   "nbconvert_exporter": "python",
   "pygments_lexer": "ipython3",
   "version": "3.8.8"
  }
 },
 "nbformat": 4,
 "nbformat_minor": 5
}
