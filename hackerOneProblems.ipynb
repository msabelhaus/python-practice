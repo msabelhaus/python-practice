{
 "cells": [
  {
   "cell_type": "markdown",
   "id": "999b6366",
   "metadata": {},
   "source": [
    "This notebook contains my answers to some HackerRank Python problems. I'm using it to keep track of certain code I've written that may be helpful in coding interviews and such."
   ]
  },
  {
   "cell_type": "markdown",
   "id": "95d085b8",
   "metadata": {},
   "source": [
    "### Problem: Write a function\n",
    "\n",
    "Uses modulus logic to return if a year is a leap year or not."
   ]
  },
  {
   "cell_type": "code",
   "execution_count": 1,
   "id": "e57ad025",
   "metadata": {},
   "outputs": [],
   "source": [
    "def is_leap(year):\n",
    "    leap = False\n",
    "    \n",
    "    # Write your logic here\n",
    "    if year % 4 == 0:\n",
    "        if (year % 100 > 0):\n",
    "            leap = True\n",
    "        elif (year % 100 == 0) and (year % 400 == 0):\n",
    "             leap = True\n",
    "    \n",
    "    return leap"
   ]
  },
  {
   "cell_type": "markdown",
   "id": "cf7b2f90",
   "metadata": {},
   "source": [
    "### Problem: Merge the tools!\n",
    "\n",
    "Creates list of substrings from a larger string based off some index, removes duplicates from the substrings, then prints them."
   ]
  },
  {
   "cell_type": "code",
   "execution_count": null,
   "id": "8e9e0868",
   "metadata": {},
   "outputs": [],
   "source": [
    "def merge_the_tools(string, k):\n",
    "    # your code goes here\n",
    "    \n",
    "    # Step 1: Create list of substrings\n",
    "    substrings = []\n",
    "    b = 0\n",
    "    t = k\n",
    "    while(t <= len(string)):\n",
    "        substrings.append(string[b:t])\n",
    "        b += k\n",
    "        t += k\n",
    "    \n",
    "    # Step 2: Clean up each substrings and print\n",
    "    for i in substrings:\n",
    "        u = []\n",
    "        for j in i:\n",
    "            if j not in u:\n",
    "                u.append(j)\n",
    "        print(''.join(u))\n",
    "        \n",
    "\n",
    "if __name__ == '__main__':"
   ]
  }
 ],
 "metadata": {
  "kernelspec": {
   "display_name": "Python 3",
   "language": "python",
   "name": "python3"
  },
  "language_info": {
   "codemirror_mode": {
    "name": "ipython",
    "version": 3
   },
   "file_extension": ".py",
   "mimetype": "text/x-python",
   "name": "python",
   "nbconvert_exporter": "python",
   "pygments_lexer": "ipython3",
   "version": "3.8.8"
  }
 },
 "nbformat": 4,
 "nbformat_minor": 5
}
