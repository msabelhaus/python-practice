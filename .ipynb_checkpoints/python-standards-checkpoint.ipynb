{
 "cells": [
  {
   "cell_type": "markdown",
   "id": "129ea9a1",
   "metadata": {},
   "source": [
    "# Pythonic Code\n",
    "\n",
    "Keeping track of common Python standards to look back on."
   ]
  },
  {
   "cell_type": "markdown",
   "id": "1b9bb65f",
   "metadata": {},
   "source": [
    "## Naming conventions:"
   ]
  },
  {
   "cell_type": "code",
   "execution_count": 9,
   "id": "283c8e9a",
   "metadata": {},
   "outputs": [
    {
     "data": {
      "text/plain": [
       "False"
      ]
     },
     "execution_count": 9,
     "metadata": {},
     "output_type": "execute_result"
    }
   ],
   "source": [
    "# Packages/Modules: must use all lowercase. Try not to use underscores.\n",
    "import pandas as pd\n",
    "\n",
    "# Classes: use CapWords\n",
    "class FoolishClassifer:\n",
    "    def __init__(self, prior_distribution, n_classes):\n",
    "        # Store the type of prior distribtion and number of\n",
    "        # classes as class attributes.\n",
    "        assert prior_distribution in ['uniform', 'mode', 'proportional']\n",
    "        self.prior_distribution = prior_distribution\n",
    "        self.n_classes = n_classes\n",
    "\n",
    "# Constants: use screaming snake case\n",
    "MY_CONSTANT_IS = 123\n",
    "\n",
    "# Functions/Variables/Function and Method Arguments: use standard snake case\n",
    "def string_in_array(arr, my_string): # Function, Function Arguments\n",
    "    return my_string in arr\n",
    "string_to_test = \"cherries\"\n",
    "string_in_array(arr = [\"apples\", \"oranges\", \"bananas\", \"grapes\"], my_string = string_to_test)\n",
    "\n",
    "# Function/Method Arguments"
   ]
  },
  {
   "cell_type": "markdown",
   "id": "351f074e",
   "metadata": {},
   "source": [
    "### Commenting:\n",
    "- Add a comment above any section of code who's purpose is not immediately obvious \n",
    "\n",
    "Docstrings:\n",
    "- Use documentation strings (\"docstrings\") to record the purpose of functions and describe the types, names, and descriptions of inputs and outputs (if applicable)\n",
    "- Multi-line docstrings consist of a summary line just like a one-line docstring, followed by a blank line, followed by a more elaborate description. (Think of this first line as an abstract). Can include the parameters, inputs/outputs if you want."
   ]
  },
  {
   "cell_type": "code",
   "execution_count": 11,
   "id": "c885a157",
   "metadata": {},
   "outputs": [
    {
     "name": "stdout",
     "output_type": "stream",
     "text": [
      "Do X and return a list.\n"
     ]
    }
   ],
   "source": [
    "# Example of a docstring\n",
    "def function(a, b):\n",
    "    \"\"\"Do X and return a list.\"\"\"\n",
    "    \n",
    "# Accessing\n",
    "print(function.__doc__)"
   ]
  },
  {
   "cell_type": "code",
   "execution_count": 10,
   "id": "ac55345c",
   "metadata": {},
   "outputs": [
    {
     "name": "stdout",
     "output_type": "stream",
     "text": [
      "Set the temperature value.\n",
      "\n",
      "    The value of the temp parameter is stored as a value in\n",
      "    the class variable temperature. The given value is converted\n",
      "    into a float value if not yet done.\n",
      "\n",
      "    Parameters\n",
      "    ----------\n",
      "    temp : float\n",
      "        the temperature value\n",
      "\n",
      "    Returns\n",
      "    -------\n",
      "    no value\n",
      "    \n"
     ]
    }
   ],
   "source": [
    "# Example of a multiline docstring -- NumPy format\n",
    "def set_temperature(self, temp):\n",
    "    \"\"\"Set the temperature value.\n",
    "\n",
    "    The value of the temp parameter is stored as a value in\n",
    "    the class variable temperature. The given value is converted\n",
    "    into a float value if not yet done.\n",
    "\n",
    "    Parameters\n",
    "    ----------\n",
    "    temp : float\n",
    "        the temperature value\n",
    "\n",
    "    Returns\n",
    "    -------\n",
    "    no value\n",
    "    \"\"\"\n",
    "\n",
    "    self.temperature = float(temp)\n",
    "    return\n",
    "\n",
    "# Accessing\n",
    "print(set_temperature.__doc__)"
   ]
  },
  {
   "cell_type": "markdown",
   "id": "e32a2664",
   "metadata": {},
   "source": [
    "### Random tips for cleaner code"
   ]
  },
  {
   "cell_type": "markdown",
   "id": "e8c952ca",
   "metadata": {},
   "source": [
    "1. When writing a function that returns a value based on a condition, try writing in simple one line conditions for easy readability."
   ]
  },
  {
   "cell_type": "code",
   "execution_count": 13,
   "id": "e1fcba2c",
   "metadata": {},
   "outputs": [],
   "source": [
    "# E.g.: traditional way vs pythonic way\n",
    "\n",
    "def is_greater (a,b):\n",
    "    if a > b : \n",
    "        return 1\n",
    "    else: \n",
    "        return 0\n",
    "\n",
    "def is_greater(): return 1 if a > b else 0"
   ]
  },
  {
   "cell_type": "markdown",
   "id": "57ed5e0b",
   "metadata": {},
   "source": [
    "2. Use list comprehensions "
   ]
  },
  {
   "cell_type": "code",
   "execution_count": 14,
   "id": "ac27f1f9",
   "metadata": {},
   "outputs": [
    {
     "name": "stdout",
     "output_type": "stream",
     "text": [
      "[3, 5, 7, 11]\n",
      "[3, 5, 7, 11]\n"
     ]
    }
   ],
   "source": [
    "# E.g.: traditional way vs pythonic way\n",
    "list1 = [4,2,3,5,7,8,11,16]\n",
    "list_odd = [] \n",
    "for n in list1 : \n",
    "    if n%2 ==1 :\n",
    "        list_odd.append(n)\n",
    "print(list_odd)    \n",
    "\n",
    "list_odd = [n for n in list1 if n%2 == 1 ]\n",
    "print(list_odd)"
   ]
  },
  {
   "cell_type": "markdown",
   "id": "f9c8fb76",
   "metadata": {},
   "source": [
    "3. Use Lambda functions if you have a very small function definition\n",
    "- Best used along with apply(), map(), or filter()"
   ]
  },
  {
   "cell_type": "code",
   "execution_count": 15,
   "id": "1c3df115",
   "metadata": {},
   "outputs": [
    {
     "name": "stdout",
     "output_type": "stream",
     "text": [
      "1\n",
      "4\n",
      "25\n",
      "49\n",
      "121\n",
      "1\n",
      "4\n",
      "25\n",
      "49\n",
      "121\n"
     ]
    }
   ],
   "source": [
    "# E.g.: traditional way vs pythonic way\n",
    "l_num = [1,2,5,7,11]\n",
    "\n",
    "def sq(x):\n",
    "    return x*x\n",
    "\n",
    "for j in l_num:\n",
    "    print(sq(j))\n",
    "    \n",
    "# vs\n",
    "for j in l_num:\n",
    "    print((lambda x:x*x)(j))"
   ]
  },
  {
   "cell_type": "markdown",
   "id": "346731ff",
   "metadata": {},
   "source": [
    "4. To create a key value pair from two lists of the same length, use the ‘zip()’ function"
   ]
  },
  {
   "cell_type": "code",
   "execution_count": 16,
   "id": "ba43741e",
   "metadata": {},
   "outputs": [
    {
     "name": "stdout",
     "output_type": "stream",
     "text": [
      "[('A', 1), ('B', 2), ('C', 3)]\n"
     ]
    }
   ],
   "source": [
    "letters = ['A','B','C']\n",
    "nums = [1,2,3]\n",
    "combined = list(zip(letters, nums))\n",
    "print(combined)"
   ]
  },
  {
   "cell_type": "markdown",
   "id": "60340a5f",
   "metadata": {},
   "source": [
    "5. Use unpacking when writing commands that contain multiple variable assignment operations"
   ]
  },
  {
   "cell_type": "code",
   "execution_count": 17,
   "id": "5c528760",
   "metadata": {},
   "outputs": [],
   "source": [
    "a, (b, c) = 10, (20, 30)"
   ]
  },
  {
   "cell_type": "code",
   "execution_count": null,
   "id": "25d3597b",
   "metadata": {},
   "outputs": [],
   "source": []
  }
 ],
 "metadata": {
  "kernelspec": {
   "display_name": "Python 3",
   "language": "python",
   "name": "python3"
  },
  "language_info": {
   "codemirror_mode": {
    "name": "ipython",
    "version": 3
   },
   "file_extension": ".py",
   "mimetype": "text/x-python",
   "name": "python",
   "nbconvert_exporter": "python",
   "pygments_lexer": "ipython3",
   "version": "3.8.8"
  }
 },
 "nbformat": 4,
 "nbformat_minor": 5
}
