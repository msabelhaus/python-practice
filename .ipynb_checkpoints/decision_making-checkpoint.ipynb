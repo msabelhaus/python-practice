{
 "cells": [
  {
   "cell_type": "markdown",
   "id": "8b40e9e6",
   "metadata": {},
   "source": [
    "Using this notebook to answer an interesting problem I came across...editing the prompt slightly:\n",
    "\n",
    "We have a list of individuals and want to know what their status as a decision-maker is based on past information we have on them. The input is a string of entries with information of (date,person,good/bad decision) separated by newlines. We want to categorize individuals at the time of each decision as follows:\n",
    "\n",
    "- NO_STATUS if we have no history of them in our system\n",
    "- GOOD_STATUS if the individual has made a good decision over 60 days before the time of the current decision\n",
    "- UNSURE_STATUS if the individual hasn't made any good decisions over 60 days before the time of the current decision\n",
    "- BAD_STATUS if the individual has ever made a bad decision"
   ]
  },
  {
   "cell_type": "markdown",
   "id": "bb0244ae",
   "metadata": {},
   "source": [
    "### Method 1: not using pandas"
   ]
  },
  {
   "cell_type": "code",
   "execution_count": 1,
   "id": "80841c73",
   "metadata": {},
   "outputs": [
    {
     "name": "stdout",
     "output_type": "stream",
     "text": [
      "2020-01-01 person1 GOODDECISION NO_STATUS\n",
      "2020-02-01 person2 BADDECISION NO_STATUS\n",
      "2020-02-03 person2 BADDECISION BAD_STATUS\n",
      "2020-02-10 person1 GOODDECISION UNSURE_STATUS\n",
      "2020-02-14 person2 GOODDECISION BAD_STATUS\n",
      "2020-03-15 person1 GOODDECISION GOOD_STATUS\n",
      "2020-05-01 person1 GOODDECISION GOOD_STATUS\n",
      "2020-10-01 person1 GOODDECISION GOOD_STATUS\n"
     ]
    }
   ],
   "source": [
    "import datetime\n",
    "import re\n",
    "\n",
    "def return_status(line):\n",
    "    '''\n",
    "    Takes in string of date/person/decision and returns date/person/status at time of decision\n",
    "    '''\n",
    "    \n",
    "    strings = []\n",
    "    for x in line.splitlines():\n",
    "        strings.append(re.split(\",\", x))\n",
    "\n",
    "    for i in range(0,len(strings)):\n",
    "\n",
    "        row = strings[i] \n",
    "        minus60 = datetime.datetime.strptime(row[0], \"%Y-%m-%d\") - datetime.timedelta(days = 60)\n",
    "        \n",
    "        # Subset elements to those that occurred BEFORE the current decision, and BY the current decision-maker\n",
    "        subset = [x for x in strings[0:i] if x[1] == row[1]]\n",
    "\n",
    "        # Logic chain is as follows:\n",
    "        # - If there are no previous decisions made by this person, \"NO_STATUS\"\n",
    "        # - Else if there are any \"BAD_DECISION\"'s made before by this person, \"BAD_STATUS\"\n",
    "        # - All that remains is individuals who have made good deicisions. So, if any were made over 60 days ago, \"GOOD_STATUS\",\n",
    "        #    else, \"UNSURE_STATUS\"\n",
    "        if not subset:\n",
    "            status = \"NO_STATUS\"\n",
    "        elif \"BADDECISION\" in [x[2] for x in subset]:\n",
    "            status = \"BAD_STATUS\"\n",
    "        elif [x for x in subset if datetime.datetime.strptime(x[0], \"%Y-%m-%d\") < minus60]:\n",
    "            status = \"GOOD_STATUS\"\n",
    "        else:\n",
    "            status = \"UNSURE_STATUS\"\n",
    "\n",
    "        print(row[0],row[1],row[2],status)\n",
    "        \n",
    "\n",
    "if __name__ == \"__main__\":\n",
    "    line = '2020-01-01,person1,GOODDECISION\\n2020-02-01,person2,BADDECISION\\n2020-02-03,person2,BADDECISION\\n2020-02-10,person1,GOODDECISION\\n2020-02-14,person2,GOODDECISION\\n2020-03-15,person1,GOODDECISION\\n2020-05-01,person1,GOODDECISION\\n2020-10-01,person1,GOODDECISION'\n",
    "    return_status(line)"
   ]
  },
  {
   "cell_type": "markdown",
   "id": "dc853d25",
   "metadata": {},
   "source": [
    "### Method 2: using pandas"
   ]
  },
  {
   "cell_type": "code",
   "execution_count": 2,
   "id": "140b5aee",
   "metadata": {},
   "outputs": [
    {
     "name": "stdout",
     "output_type": "stream",
     "text": [
      "['person1', '2020-01-01 00:00:00', 'GOODDECISION', 'NO_STATUS']\n",
      "['person2', '2020-02-01 00:00:00', 'BADDECISION', 'NO_STATUS']\n",
      "['person2', '2020-02-03 00:00:00', 'BADDECISION', 'BAD_STATUS']\n",
      "['person1', '2020-02-10 00:00:00', 'GOODDECISION', 'UNSURE_STATUS']\n",
      "['person2', '2020-02-14 00:00:00', 'GOODDECISION', 'BAD_STATUS']\n",
      "['person1', '2020-03-15 00:00:00', 'GOODDECISION', 'GOOD_STATUS']\n",
      "['person1', '2020-05-01 00:00:00', 'GOODDECISION', 'GOOD_STATUS']\n",
      "['person1', '2020-10-01 00:00:00', 'GOODDECISION', 'GOOD_STATUS']\n"
     ]
    }
   ],
   "source": [
    "import pandas as pd\n",
    "import datetime\n",
    "import re\n",
    "\n",
    "def return_status(line):\n",
    "    '''\n",
    "    Takes in string of date/person/decision and returns date/person/status at time of decision\n",
    "    '''\n",
    "    \n",
    "    strings = []\n",
    "    for x in line.splitlines():\n",
    "        strings.append(re.split(\",\", x))\n",
    "        \n",
    "    dates = [x[0] for x in strings]\n",
    "    names = [x[1] for x in strings]\n",
    "    decisions = [x[2] for x in strings]\n",
    "\n",
    "    df = pd.DataFrame({'date': dates,\n",
    "                      'individual': names,\n",
    "                      'decision': decisions})\n",
    "\n",
    "    # Convert data to correct types\n",
    "    df['date'] = pd.to_datetime(df['date'], format=\"%Y-%m-%d\")\n",
    "    df['individual'] = df['individual'].astype(str)\n",
    "    df['decision'] = df['decision'].astype(str)\n",
    "\n",
    "    for i in range(0,len(df)):\n",
    "\n",
    "        # Subset all observations before current instance and of the same individual\n",
    "        subset = df.iloc[0:i] \n",
    "        subset = subset.loc[subset['individual'] == df.iloc[i][\"individual\"]]\n",
    "\n",
    "        # Find date - 60 days\n",
    "        back60 = df.iloc[i][\"date\"] - datetime.timedelta(days = 60)\n",
    "\n",
    "        if subset.empty:\n",
    "            status = \"NO_STATUS\"          \n",
    "        elif \"BADDECISION\" in set(subset['decision']):\n",
    "            status = \"BAD_STATUS\"        \n",
    "        elif len(subset.loc[subset['date'] < back60]) > 0:\n",
    "            status = \"GOOD_STATUS\"\n",
    "        else:\n",
    "            status = \"UNSURE_STATUS\"\n",
    "\n",
    "        print([df.iloc[i][\"individual\"], str(df.iloc[i][\"date\"]), df.iloc[i][\"decision\"], status])\n",
    "    \n",
    "if __name__ == \"__main__\":\n",
    "    line = '2020-01-01,person1,GOODDECISION\\n2020-02-01,person2,BADDECISION\\n2020-02-03,person2,BADDECISION\\n2020-02-10,person1,GOODDECISION\\n2020-02-14,person2,GOODDECISION\\n2020-03-15,person1,GOODDECISION\\n2020-05-01,person1,GOODDECISION\\n2020-10-01,person1,GOODDECISION'\n",
    "    return_status(line)"
   ]
  }
 ],
 "metadata": {
  "kernelspec": {
   "display_name": "Python 3 (ipykernel)",
   "language": "python",
   "name": "python3"
  },
  "language_info": {
   "codemirror_mode": {
    "name": "ipython",
    "version": 3
   },
   "file_extension": ".py",
   "mimetype": "text/x-python",
   "name": "python",
   "nbconvert_exporter": "python",
   "pygments_lexer": "ipython3",
   "version": "3.8.12"
  }
 },
 "nbformat": 4,
 "nbformat_minor": 5
}
