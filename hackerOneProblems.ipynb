{
 "cells": [
  {
   "cell_type": "markdown",
   "id": "999b6366",
   "metadata": {},
   "source": [
    "This notebook contains my answers to some HackerRank Python problems. I'm using it to keep track of certain code I've written that may be helpful in coding interviews and such."
   ]
  },
  {
   "cell_type": "markdown",
   "id": "d604426d",
   "metadata": {},
   "source": [
    "### Problem: Loops\n",
    "\n",
    "While loops"
   ]
  },
  {
   "cell_type": "code",
   "execution_count": null,
   "id": "5877a9a6",
   "metadata": {},
   "outputs": [],
   "source": [
    "if __name__ == '__main__':\n",
    "    n = int(input())\n",
    "    \n",
    "    i = 0\n",
    "    while i < n:\n",
    "        print(pow(i,2))\n",
    "        i += 1"
   ]
  },
  {
   "cell_type": "markdown",
   "id": "bec47e46",
   "metadata": {},
   "source": [
    "### Problem: Print Function\n",
    "\n",
    "Prints integers 1...n without line breaks (not using strings)"
   ]
  },
  {
   "cell_type": "code",
   "execution_count": null,
   "id": "f8d344ca",
   "metadata": {},
   "outputs": [],
   "source": [
    "if __name__ == '__main__':\n",
    "    n = int(input())\n",
    "    \n",
    "    i = 1\n",
    "    while i <= n:\n",
    "        print(i, end='') # end argument prevents newline break\n",
    "        i += 1"
   ]
  },
  {
   "cell_type": "markdown",
   "id": "99d14c26",
   "metadata": {},
   "source": [
    "### Problem: Exceptions\n",
    "\n",
    "Intro to try/catch logic. Also helpful for understanding interacting with user input."
   ]
  },
  {
   "cell_type": "code",
   "execution_count": null,
   "id": "50688e2c",
   "metadata": {},
   "outputs": [],
   "source": [
    "# Enter your code here. Read input from STDIN. Print output to STDOUT\n",
    "\n",
    "if __name__ == '__main__':\n",
    "    \n",
    "    # User first inputs the number of value-pairs\n",
    "    # Must make this an int -- input() forces elements to strings\n",
    "    N = int(input())\n",
    "    \n",
    "    # Next, for each input perform the requested calculations\n",
    "    for i in range(N):\n",
    "        a, b = input().split()\n",
    "        \n",
    "        try:\n",
    "            print(int(a)//int(b))\n",
    "        except ZeroDivisionError as e:\n",
    "            print(\"Error Code:\", e)\n",
    "        except ValueError as v:\n",
    "            print(\"Error Code:\", v)"
   ]
  },
  {
   "cell_type": "code",
   "execution_count": null,
   "id": "957b769f",
   "metadata": {},
   "outputs": [],
   "source": []
  },
  {
   "cell_type": "code",
   "execution_count": null,
   "id": "14a86144",
   "metadata": {},
   "outputs": [],
   "source": [
    "if __name__ == '__main__':\n",
    "    x = int(input())\n",
    "    y = int(input())\n",
    "    z = int(input())\n",
    "    n = int(input())\n",
    "    \n",
    "    coords = []\n",
    "    # Long way -- without list comprehension\n",
    "    for i in range(x+1):\n",
    "        for j in range(y+1):\n",
    "            for q in range(z+1):\n",
    "                if i+j+q!=n:\n",
    "                    coords.append([i,j,q])\n",
    "    \n",
    "    # Short way -- with list comprehension\n",
    "    coords = [[i,j,q] for i in range(x+1) for j in range(y+1) for q in range(z+1) if i+j+q != n]\n",
    "    print(coords)"
   ]
  },
  {
   "cell_type": "markdown",
   "id": "95d085b8",
   "metadata": {},
   "source": [
    "### Problem: Write a function\n",
    "\n",
    "Uses modulus logic to return if a year is a leap year or not."
   ]
  },
  {
   "cell_type": "code",
   "execution_count": 1,
   "id": "e57ad025",
   "metadata": {},
   "outputs": [],
   "source": [
    "def is_leap(year):\n",
    "    leap = False\n",
    "    \n",
    "    # Write your logic here\n",
    "    if year % 4 == 0:\n",
    "        if (year % 100 > 0):\n",
    "            leap = True\n",
    "        elif (year % 100 == 0) and (year % 400 == 0):\n",
    "             leap = True\n",
    "    \n",
    "    return leap"
   ]
  },
  {
   "cell_type": "markdown",
   "id": "cf7b2f90",
   "metadata": {},
   "source": [
    "### Problem: Merge the tools!\n",
    "\n",
    "Creates list of substrings from a larger string based off some index, removes duplicates from the substrings, then prints them."
   ]
  },
  {
   "cell_type": "code",
   "execution_count": null,
   "id": "8e9e0868",
   "metadata": {},
   "outputs": [],
   "source": [
    "def merge_the_tools(string, k):\n",
    "    # your code goes here\n",
    "    \n",
    "    # Step 1: Create list of substrings\n",
    "    substrings = []\n",
    "    b = 0\n",
    "    t = k\n",
    "    while(t <= len(string)):\n",
    "        substrings.append(string[b:t])\n",
    "        b += k\n",
    "        t += k\n",
    "    \n",
    "    # Step 2: Clean up each substrings and print\n",
    "    for i in substrings:\n",
    "        u = []\n",
    "        for j in i:\n",
    "            if j not in u:\n",
    "                u.append(j)\n",
    "        print(''.join(u))\n",
    "        \n",
    "\n",
    "if __name__ == '__main__':"
   ]
  },
  {
   "cell_type": "markdown",
   "id": "0e917983",
   "metadata": {},
   "source": [
    "### Problem: Finding the percentage\n",
    "\n",
    "Subsets dictionary of student scores based on student name, calculates their mean score, and prints to two decimal places"
   ]
  },
  {
   "cell_type": "code",
   "execution_count": null,
   "id": "b77bb16d",
   "metadata": {},
   "outputs": [],
   "source": [
    "if __name__ == '__main__':\n",
    "    n = int(raw_input())\n",
    "    student_marks = {}\n",
    "    for _ in range(n):\n",
    "        line = raw_input().split()\n",
    "        name, scores = line[0], line[1:]\n",
    "        scores = map(float, scores)\n",
    "        student_marks[name] = scores\n",
    "    query_name = raw_input()\n",
    "    \n",
    "    # my code\n",
    "    for key, val in student_marks.items():\n",
    "        if key == query_name:\n",
    "            # Note: Passing an integer after the ':' will cause that field to be a minimum number of characters wide.\n",
    "            print(\"{:.2f}\".format(sum(val)/len(val)))"
   ]
  },
  {
   "cell_type": "markdown",
   "id": "b329fa1e",
   "metadata": {},
   "source": [
    "### Set .symmetric_difference() Operation"
   ]
  },
  {
   "cell_type": "code",
   "execution_count": null,
   "id": "8da75eae",
   "metadata": {},
   "outputs": [],
   "source": [
    "# Enter your code here. Read input from STDIN. Print output to STDOUT\n",
    "if __name__ == '__main__':\n",
    "    E = int(input())\n",
    "    E_students = set(input().split()) \n",
    "    F = int(input())\n",
    "    F_students = input().split()\n",
    "    \n",
    "    union = E_students.symmetric_difference(F_students)\n",
    "    print(len(union))"
   ]
  },
  {
   "cell_type": "markdown",
   "id": "c4ffca15",
   "metadata": {},
   "source": [
    "### Problem: Arrays (numpy)\n",
    "\n",
    "Returns reversed list as an array of floats. Note the use of list slicing."
   ]
  },
  {
   "cell_type": "code",
   "execution_count": null,
   "id": "113e4dd6",
   "metadata": {},
   "outputs": [],
   "source": [
    "import numpy\n",
    "\n",
    "def arrays(arr):\n",
    "    # complete this function\n",
    "    # use numpy.array\n",
    "    return numpy.array(arr[::-1],float)\n",
    "\n",
    "arr = input().strip().split(' ')\n",
    "result = arrays(arr)\n",
    "print(result)"
   ]
  },
  {
   "cell_type": "markdown",
   "id": "5d31135d",
   "metadata": {},
   "source": [
    "### Problem: Shape and Reshape\n",
    "\n",
    "Takes in a space-separated list of numbers, reshapes into 3x3 array."
   ]
  },
  {
   "cell_type": "code",
   "execution_count": null,
   "id": "34fa0771",
   "metadata": {},
   "outputs": [],
   "source": [
    "import numpy as np\n",
    "\n",
    "arr = np.array(input().split(), int)\n",
    "print(np.reshape(arr,(3,3)))"
   ]
  }
 ],
 "metadata": {
  "kernelspec": {
   "display_name": "Python 3",
   "language": "python",
   "name": "python3"
  },
  "language_info": {
   "codemirror_mode": {
    "name": "ipython",
    "version": 3
   },
   "file_extension": ".py",
   "mimetype": "text/x-python",
   "name": "python",
   "nbconvert_exporter": "python",
   "pygments_lexer": "ipython3",
   "version": "3.8.8"
  }
 },
 "nbformat": 4,
 "nbformat_minor": 5
}
